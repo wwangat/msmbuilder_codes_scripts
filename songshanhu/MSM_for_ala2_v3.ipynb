{
 "cells": [
  {
   "cell_type": "code",
   "execution_count": null,
   "metadata": {
    "collapsed": true
   },
   "outputs": [],
   "source": [
    "%matplotlib inline \n",
    "#display images generated in line\n",
    "\n",
    "'''\n",
    "#Description about MSM\n",
    "\n",
    "Markov State Model (MSM) is a powerful method to investigate the conformational dynamics of proteins. \n",
    "MSM achieves the analysis by building a master equation from the Molecular Dynamics (MD) dataset.\n",
    "Most of the kinetic and thermodynamic properties can be computed from the master equation\n",
    "\n",
    "The general protocol of MSM includes: \n",
    "1.Clustering the conformational space into states. This is usually achieved by the splitting-and-lumping algorithm.\n",
    "   1.0. We perform tICA to select kinetically slow subspace for the clustering stage\n",
    "   1.1. We  split the conformational space into hundreds of microstates based on the geometric proximity.\n",
    "        KMeans or kcenters is commonly used in the splitting stage.\n",
    "   1.2. We then lump the microstates into macrostates based on the kinetic proximity, Spectral-based clustering is commonly applied.\n",
    "\n",
    "2. Build the master equation (P(\\tau)=T(\\tau) P(0), T(\\tau) is the transition probability matrix)\n",
    "   2.0. Select a proper lag time so that the state-model will be Markovian (lose memory). The lag time is often chosen based on the implied timescale plot\n",
    "   2.1. Calculate the transition probability matrix (TPM). TPM is the key to MSM.\n",
    "   (We can build MSM on microstate model or macrostate model, as long as the model becomes Markovian)\n",
    "3. Extract kinetic properties from the MSM, for example: Mean first passage time (MFPT) and transition pathways (obtained by transition path theory (TPT))\n",
    "\n",
    "References:[1]Constructing Markov State Models to elucidate the functional conformational changes of complex biomolecules\n",
    "           [2]MSMBuilder: Statistical Models for Biomolecular Dynamics\n",
    "           [3]PyEMMA 2: A Software Package for Estimation, Validation, and Analysis of Markov Models.\n",
    "\n",
    "This notebook contains the whole pipline to perform MSM analysis. Specifically, we run tICA, splitting-and-lumping, and TPT.\n",
    "\n",
    "This script is written by Wei Wang (wwangat@gmail.com)\n",
    "\n",
    "Dependency of this script: msmbuilder (>3.6.0 version), pyemma 2\n",
    "\n",
    "'''"
   ]
  },
  {
   "cell_type": "code",
   "execution_count": null,
   "metadata": {
    "collapsed": true
   },
   "outputs": [],
   "source": [
    "#load all the modules needed in the MSM analysis of the alanine dipeptide system\n",
    "import os\n",
    "import sys\n",
    "import warnings\n",
    "warnings.filterwarnings('ignore')\n",
    "import numpy as np\n",
    "\n",
    "from msmbuilder.featurizer import AtomPairsFeaturizer, DihedralFeaturizer\n",
    "from msmbuilder.cluster import KCenters\n",
    "from msmbuilder.decomposition import tICA\n",
    "from msmbuilder.dataset import dataset\n",
    "from msmbuilder.msm import implied_timescales, MarkovStateModel\n",
    "from msmbuilder.lumping import PCCAPlus\n",
    "import pyemma.msm as pyemma_msm\n",
    "\n",
    "import matplotlib\n",
    "#matplotlib.use('Agg')\n",
    "import seaborn as sns\n",
    "from matplotlib import pyplot as plt\n",
    "from matplotlib.colors import LogNorm\n",
    "\n",
    "import mdtraj as md\n",
    "from msmbuilder.io.sampling import sample_dimension\n",
    "import random\n",
    "\n",
    "from pyemma.plots import plot_free_energy\n",
    "import msmtools.analysis"
   ]
  },
  {
   "cell_type": "code",
   "execution_count": null,
   "metadata": {
    "collapsed": true
   },
   "outputs": [],
   "source": [
    "#functions that will be used in the analysis\n",
    "\n",
    "#featurizing_the_conformations: transform the xyz coordinates into features, the output will be used for tICA\n",
    "def featurizing_the_conformations(featurizer, xtc_traj_folder, traj_list_array, pdb_name):\n",
    "    #we usually use dihedral, rmsd or pairwise distance featurizers in MSM\n",
    "    output_features=[]\n",
    "    for trajfile in traj_list_array:\n",
    "        xyz=dataset(trajectory_dir+trajfile, topology=trajectory_dir+pdb_name) #xyz is the coordinates for the frames in the trajectory\n",
    "        temp=featurizer.fit_transform(xyz) #we transform the coordinates into pairwise distaneces\n",
    "        print(\"loaded %s into (%d,%d) dimensional file\"%(trajfile, len(temp[0]), len(temp[0][0])))\n",
    "        output_features.append(temp[0])\n",
    "    return output_features\n",
    "\n",
    "\n",
    "##plots:\n",
    "#draw_tica_projection: after tica, we draw the MD data projected onto major tICs\n",
    "#plot_states_on_tic_space: the datapoints in same color belong to the same states\n",
    "#plot_impliedtimescale: ITS shows how many basins\n",
    "\n",
    "def draw_tica_histogram_core(x, y, tIC_a, tIC_b):\n",
    "#    plt.axes(axisbg='w')\n",
    "    plt.grid(False)\n",
    "    plt.hist2d(x, y, bins=100, cmap='hot_r', norm=LogNorm())\n",
    "    plt.xlabel('tIC %s'%(str(tIC_a)))\n",
    "    plt.ylabel('tIC %s'%(str(tIC_b)))\n",
    "    plt.title('tICA Heatmap (log color scale)')\n",
    "\n",
    "def draw_tica_projection(resultdir, tica_trajs, opath, tIC_a, tIC_b):\n",
    "    transformed=np.concatenate(tica_trajs)\n",
    "    x = transformed[:, int(tIC_a)-1]\n",
    "    y = transformed[:, int(tIC_b)-1]\n",
    "    draw_tica_histogram_core(x, y,tIC_a, tIC_b)\n",
    "    plt.colorbar()\n",
    "    plt.savefig(resultdir + '/'+opath)\n",
    "#    plt.close()\n",
    "    \n",
    "def plot_states_on_tic_space(resultdir, opath, tica_trajs, msm_traj, tIC_a, tIC_b):\n",
    "    transformed_tic=np.concatenate(tica_trajs)\n",
    "    transformed_assignments=np.concatenate(msm_traj)\n",
    "    for j in range(min(transformed_assignments), max(transformed_assignments)+1):\n",
    "        index = np.where(transformed_assignments == j)[0]\n",
    "        plt.scatter(transformed_tic[index[::20], tIC_a-1], transformed_tic[index[::20], tIC_b-1],s=2)\n",
    "    if(max(transformed_assignments)-min(transformed_assignments)<=6):\n",
    "        plt.legend(['S'+str(i) for i in range(min(transformed_assignments), max(transformed_assignments)+1)])\n",
    "    plt.xlabel('tIC %s'%(str(tIC_a)))\n",
    "    plt.ylabel('tIC %s'%(str(tIC_b)))\n",
    "    plt.title('tICA projections')\n",
    "    plt.savefig(resultdir + '/'+opath)\n",
    "\n",
    "def plot_Ramachandran(resultdir, opath, phi_psi, msm_traj):\n",
    "    transformed_phi_psi=np.concatenate(phi_psi)\n",
    "    transformed_assignments=np.concatenate(msm_traj)\n",
    "    for j in range(min(transformed_assignments), max(transformed_assignments)+1):\n",
    "        index = np.where(transformed_assignments == j)[0]\n",
    "        plt.scatter(transformed_phi_psi[index[::20], 0]*180/np.pi, transformed_phi_psi[index[::20], 1]*180/np.pi,s=2)\n",
    "    if(max(transformed_assignments)-min(transformed_assignments)<=6):\n",
    "        plt.legend(['S'+str(i) for i in range(min(transformed_assignments), max(transformed_assignments)+1)])\n",
    "    plt.xlabel('phi')\n",
    "    plt.ylabel('psi')\n",
    "    plt.xlim([-180, 180])\n",
    "    plt.ylim([-180, 180])\n",
    "    plt.title('Ramachandran plots')\n",
    "    plt.savefig(resultdir + '/'+opath)\n",
    "    \n",
    "def plot_impliedtimescale(resultdir, opath, lag_times, msm_timescales, axis_unit):\n",
    "    for i in range(len(msm_timescales[0])):\n",
    "        plt.plot(lag_times, msm_timescales[:, i], 'o-')\n",
    "    plt.title('Discrete-time MSM Relaxation Timescales')\n",
    "    plt.xlabel(axis_unit)\n",
    "    plt.ylabel(axis_unit)\n",
    "    plt.semilogy()\n",
    "    plt.savefig(resultdir + '/'+ opath)\n",
    "\n",
    "##sampling the conformations\n",
    "\n",
    "#sampling_along_tIC: intepret the physical meaning of tIC by sampling conforamtions along the dominant tICs\n",
    "#sampling_along_msm_eigenmode: intepret the physical meaning of the slowest transition by sampling conformation along the msm eigenvectors\n",
    "\n",
    "def sampling_along_tIC(resultdir, opath, tica_trajs, xtc_traj_folder, traj_list_array, pdb_name, tIC_a):\n",
    "    transformed=np.concatenate(tica_trajs)\n",
    "    draw_tica_histogram_core(transformed[:, 0], transformed[:, 1], '1', '2')\n",
    "    tica_trajs = {i:tica_trajs[i] for i in range(len(tica_trajs))}    #tica_trajs is now a dictionary\n",
    "    inds = sample_dimension(tica_trajs, dimension=tIC_a-1, n_frames=200, scheme='random') #sample 200 conformations\n",
    "    #make trajectory\n",
    "    traj = md.join(md.load_frame(xtc_traj_folder+traj_list_array[i], index=frame_i, top=xtc_traj_folder+pdb_name)\n",
    "                  for i, frame_i in inds)\n",
    "    #save the trajectory\n",
    "    traj.save(\"%s/tica-dimension-tIC%s.xtc\"%(resultdir, tIC_a-1))\n",
    "    #show the samples on tICA projections\n",
    "    samples_coord = []\n",
    "    for i, frame_i in inds:\n",
    "        samples_coord.append([tica_trajs[i][frame_i][0], tica_trajs[i][frame_i][1]])\n",
    "    samples_coord = np.array(samples_coord)\n",
    "    print(samples_coord.shape)\n",
    "    plt.plot(samples_coord[:, 0], samples_coord[:, 1], 'o-')\n",
    "    plt.legend('sample')\n",
    "    plt.savefig(resultdir + '/' + opath)\n",
    "\n",
    "def sampling_along_msm_eigenmode(resultdir, msm_eigen_trajs, assignment_list, xtc_traj_folder, traj_list_array, pdb_name, mode_num):\n",
    "    #mode_num=1: the slowest dynamic mode (2nd eigenvector of TPM)\n",
    "    info_list=[] #elements in info_list: [traj_id, frame_id, class_id, eigenvector_value]\n",
    "    for j in range(len(assignment_list)):\n",
    "        for k in range(len(assignment_list[j])):\n",
    "            info_list.append([j, k, assignment_list[j][k], msm_eigen_trajs[j][k][mode_num-1]]) #index starts from 0\n",
    "    #randomly sample 200 conformations\n",
    "    samples=random.sample(info_list, 200) #can play with the number 200\n",
    "    sorted_samples=sorted(samples, key=lambda x: x[3])\n",
    "    #get the xtc file containing all the sampled conformations\n",
    "    traj = md.join(md.load_frame(xtc_traj_folder+traj_list_array[i], index=frame_i, top=xtc_traj_folder+pdb_name)\n",
    "                  for i, frame_i, class_id, eigenvector_value in sorted_samples)        \n",
    "    traj.save(\"%s/msm-%s-dynamic-mode.xtc\"%(resultdir, mode_num))\n",
    "\n",
    "def sampling_representative_structures_for_MSM(resultdir, msm_traj, xtc_traj_folder, traj_list_array, pdb_name):\n",
    "    transformed_assignments=np.concatenate(msm_traj)\n",
    "    info_list=[] #elements in info_list: [traj_id, frame_id, class_id, eigenvector_value]\n",
    "    for j in range(len(msm_traj)):\n",
    "        for k in range(len(msm_traj[j])):\n",
    "            info_list.append([j, k, msm_traj[j][k]])\n",
    "    info_list = np.array(info_list)\n",
    "    for j in range(min(transformed_assignments), max(transformed_assignments)+1):\n",
    "        samples = random.sample(list(info_list[np.where(info_list[:, 2] == j)[0]]), 50)\n",
    "        traj = md.join(md.load_frame(xtc_traj_folder+traj_list_array[i], index=frame_i, top=xtc_traj_folder+pdb_name)\n",
    "                  for i, frame_i, class_id in samples)\n",
    "        traj.save(\"%s/representative_structure_in_state%d.xtc\"%(resultdir, j))\n",
    "\n",
    "#run TPT to get the kinetic properties, based on the macrostate MSM, analytically\n",
    "def evaluate_dominant_paths(TPM, lagtime, source_state, sink_state, time_unit):\n",
    "    M = pyemma_msm.markov_model(TPM)\n",
    "    tpt = pyemma_msm.tpt(M, [source_state], [sink_state])\n",
    "    (paths,pathfluxes) = tpt.pathways()\n",
    "    cumflux = 0\n",
    "    print(\"Dominant pathways from state %d to state %d:\"%(source_state, sink_state))\n",
    "    print(\"path\\t percentage\")\n",
    "    for i in range(len(paths)):\n",
    "        print(paths[i], '\\t','%3.1f'%(100.0*pathfluxes[i]/tpt.total_flux))\n",
    "    print('MFPT from state %d to state %d  = %f %s'% (source_state, sink_state, M.mfpt(source_state, sink_state)*lagtime, time_unit))\n",
    "#msmbuilder's mpft\n",
    "\n"
   ]
  },
  {
   "cell_type": "code",
   "execution_count": null,
   "metadata": {
    "collapsed": true
   },
   "outputs": [],
   "source": [
    "#Evaluate the MFPT and TPT based on the microstate model and the micro-to-macro mapping relationship, analytically\n",
    "def calculate_macro_TPT_and_MFPT_basedon_micro_MSM(microTPM, mapping, source_state, sink_state, lagtime, time_unit, verbose):\n",
    "    P = pyemma_msm.markov_model(microTPM) #TPM is row-normalized\n",
    "    A = np.where(mapping==source_state)[0]\n",
    "    B = np.where(mapping==sink_state)[0]\n",
    "    print('MFPT from state %d to state %d = %f %s'%(source_state, sink_state, msmtools.analysis.mfpt(microTPM, B, A)*lagtime, time_unit))\n",
    "    #get TPT,  #bug fixed on June 4, 2019\n",
    "    tpt = pyemma_msm.tpt(P, A, B)\n",
    "    (paths,pathfluxes) = tpt.pathways()\n",
    "    cumflux = 0\n",
    "    print(\"summarizing the pathways in macrostate form\")\n",
    "    temp_file=open('tpt_temp.log', 'w')\n",
    "    for i in range(len(paths)):\n",
    "        cumflux += pathfluxes[i]\n",
    "        temp_file.write(\"%16.9f\\t%16.9f\\t%16.9f\\t%s\\n\"%(pathfluxes[i], 100.0*pathfluxes[i]/tpt.total_flux, 100.0*cumflux/tpt.total_flux, mapping[paths[i]]))\n",
    "    temp_file.close()\n",
    "    os.system('bash lump.sh') #may do this in bash\n",
    "    for line in open('tpt_pathlump.log'):\n",
    "        print(line.strip())\n",
    "    print('############################################################')\n",
    "    cumflux = 0",
    "    if(verbose == 'on'):\n",
    "        print(\"more details about the paths in the microstate form\")\n",
    "        print(\"Path flux\\t\\t%path\\t%of total\\tpaths\")\n",
    "        for i in range(len(paths)):\n",
    "            cumflux += pathfluxes[i]\n",
    "            print(pathfluxes[i],'\\t','%3.1f'%(100.0*pathfluxes[i]/tpt.total_flux),'%\\t','%3.1f'%(100.0*cumflux/tpt.total_flux),'%\\t',paths[i])"
   ]
  },
  {
   "cell_type": "code",
   "execution_count": null,
   "metadata": {
    "collapsed": true
   },
   "outputs": [],
   "source": [
    "#specify the input files:\n",
    "#1. folders to store the pdb file and the trajectories (in xtc or dcd format)\n",
    "#2. the atom index or index pair for the pairwise distances used in tICA (index starts from 0 in python) \n",
    "#3. the name list for the trajectories\n",
    "\n",
    "#In alanine dipeptide, the MD data is saved every 1 ps. Run at 300 K using Langevin\n",
    "\n",
    "trajectory_dir='trajs/'  #folder to store the pdb and trajectories\n",
    "pdb_name='ala2.pdb' #name for the topology file\n",
    "trajname_list='trajname.list' #the name list for the trajectories in trajectory_dir\n",
    "atom_pair_list='pairdist.list' #the pairwise distances list used in tICA\n",
    "resultdir = './results'"
   ]
  },
  {
   "cell_type": "code",
   "execution_count": null,
   "metadata": {
    "collapsed": true
   },
   "outputs": [],
   "source": [
    "if not os.path.exists(resultdir):\n",
    "    os.makedirs(resultdir)\n",
    "    \n",
    "#load all the input files\n",
    "print('now we are loading all the input files used in the tICA-MSM analysis')\n",
    "atom_pairs = np.loadtxt(atom_pair_list, dtype=int) #import the pairwise distance index file as integer type\n",
    "traj_list_array=[]\n",
    "for line in open(trajname_list):\n",
    "    traj_list_array.append(line.strip())"
   ]
  },
  {
   "cell_type": "code",
   "execution_count": null,
   "metadata": {
    "collapsed": true
   },
   "outputs": [],
   "source": [
    "#step 1.0: tICA\n",
    "#Select kinetic slow variables via tICA (time-lagged independent component analysis)\n",
    "#tICA finds the linear combination of the input features that maximizing the normalized time-lagged correlation matrix\n",
    "#In this example, we use pairwise distance of all heavy atoms as the input features for tICA.\n",
    "\n",
    "#input: trajectories, output: tICA projections\n",
    "#prepare data for tICA\n",
    "featurizer = AtomPairsFeaturizer(pair_indices=atom_pairs) #In this example, we use pairwise distances\n",
    "pairdist4tica = featurizing_the_conformations(featurizer, trajectory_dir, traj_list_array, pdb_name)\n",
    "print(\"now we have prepared the data for tICA: the pairwise distances for all frames in all trajectories\")\n",
    "\n",
    "#run tICA\n",
    "tica_model=tICA(lag_time=10,n_components=2) #tica lagged should be pre-specified, you can play with this number!\n",
    "tica_trajs=tica_model.fit_transform(pairdist4tica)  #projected the MD data onto tica coordinates\n",
    "#print(\"output of tica:\", tica_trajs)\n",
    "#plot the tica projections\n",
    "draw_tica_projection(resultdir, tica_trajs,'tica_12.png', 1, 2)\n",
    "\n",
    "#sample conformations along tIC1\n",
    "print('now we are sampling representative conformations along tIC1')\n",
    "plt.figure()\n",
    "sampling_along_tIC(resultdir, 'samples_tic1.png', tica_trajs, trajectory_dir, traj_list_array, pdb_name, 1)\n",
    "print(\"You can use vmd to visualize the tica-dimension-tIC1.xtc file\")"
   ]
  },
  {
   "cell_type": "code",
   "execution_count": null,
   "metadata": {
    "collapsed": true
   },
   "outputs": [],
   "source": [
    "#step 1.1: split the conformations into hundreds of microstates\n",
    "#perform kCenters on the tIC subspace\n",
    "#input:tICA projections, output:assignments indicating which microstate each conformation is assigned to\n",
    "nMicro=100 #specified a priori\n",
    "kcenters=KCenters(n_clusters=nMicro, metric='euclidean', random_state=0)\n",
    "microstate_sequences = kcenters.fit(tica_trajs)\n",
    "print(\"output of msm:\", microstate_sequences.labels_)\n",
    "\n",
    "plt.figure()\n",
    "plot_states_on_tic_space(resultdir, 'micorstate.png', tica_trajs, microstate_sequences.labels_, 1, 2)"
   ]
  },
  {
   "cell_type": "code",
   "execution_count": null,
   "metadata": {
    "collapsed": true
   },
   "outputs": [],
   "source": [
    "#plot the microstate implied timescale, which will show how many macrostates we need\n",
    "plt.figure()\n",
    "lag_times=range(2,50,2)\n",
    "msm_timescales = implied_timescales(microstate_sequences.labels_, lag_times, n_timescales=10,msm=MarkovStateModel(reversible_type='transpose', ergodic_cutoff='off'))\n",
    "plot_impliedtimescale(resultdir, 'microstate_its.png', lag_times, msm_timescales, 'ps')"
   ]
  },
  {
   "cell_type": "code",
   "execution_count": null,
   "metadata": {
    "collapsed": true
   },
   "outputs": [],
   "source": [
    "#the first dynamic eigenvector is associated to the slowest transitions in the dataset\n",
    "#we can understand the physical meaning of the first eigenmode through sampling the conformations\n",
    "msm = MarkovStateModel(lag_time=4, reversible_type='transpose', n_timescales=3, ergodic_cutoff='off') #lag time should be chosen such that the model becomes Markovian\n",
    "#n_timescale specify the number of dynamic mode (the 1st one is the 2nd eigenvector of TPM) that outputs\n",
    "msm.fit(microstate_sequences.labels_)\n",
    "msm_eigen_trajs = msm.eigtransform(microstate_sequences.labels_)\n",
    "sampling_along_msm_eigenmode(resultdir, msm_eigen_trajs, microstate_sequences.labels_, trajectory_dir, traj_list_array, pdb_name, 1) #1:the slowest transition,play with the eigenmodes\n",
    "print(\"the timescale associated with the slowest collective motion in the system is: %d ps\"%(msm.timescales_[0]))\n",
    "print(\"using vmd to open msm-1-dynamic-mode.xtc, to intepret the slowest dynamic mode of the system\")"
   ]
  },
  {
   "cell_type": "code",
   "execution_count": null,
   "metadata": {
    "collapsed": true
   },
   "outputs": [],
   "source": [
    "#judging from the above implied timescale, we need to lump the microstates into 3 macrostates\n",
    "#lump kinetically close microstates into a few macrostates using PCCA+ algorithm, which will facilitate the visualization and intereptation of kinetics of the system\n",
    "pcca = PCCAPlus.from_msm(msm, n_macrostates=3)\n",
    "macro_trajs = pcca.transform(microstate_sequences.labels_)\n",
    "#show the macrostates onto tICA space\n",
    "plt.figure()\n",
    "plot_states_on_tic_space(resultdir, 'macrostate.png', tica_trajs, macro_trajs, 1, 2)\n",
    "\n",
    "#for alanine dipeptide, we can also validate the lumping using Ramanchandran plots\n",
    "phi_psi_featurizer = DihedralFeaturizer(types=['phi', 'psi'], sincos=False) #if \"True\", then output sin, cos of the angles\n",
    "phi_psi = featurizing_the_conformations(phi_psi_featurizer, trajectory_dir, traj_list_array, pdb_name)\n",
    "plt.figure()\n",
    "plot_Ramachandran(resultdir, 'macrostate_Ramachandran.png', phi_psi, macro_trajs)"
   ]
  },
  {
   "cell_type": "code",
   "execution_count": null,
   "metadata": {
    "collapsed": true
   },
   "outputs": [],
   "source": [
    "#sample representative structures for each macrostate, used for visualization\n",
    "\n",
    "sampling_representative_structures_for_MSM(resultdir, macro_trajs, trajectory_dir, traj_list_array, pdb_name)\n",
    "print(\"you can now visualize the representative structures using vmd\")"
   ]
  },
  {
   "cell_type": "code",
   "execution_count": null,
   "metadata": {},
   "outputs": [],
   "source": []
  },
  {
   "cell_type": "code",
   "execution_count": null,
   "metadata": {
    "collapsed": true
   },
   "outputs": [],
   "source": [
    "#plot the macrostate implied timescale, we can then select proper lag time to build the macrostate MSM\n",
    "plt.figure()\n",
    "lag_times=range(2,50,2)\n",
    "msm_timescales = implied_timescales(macro_trajs, lag_times, n_timescales=3,msm=MarkovStateModel(reversible_type='transpose', ergodic_cutoff='off'))\n",
    "plot_impliedtimescale(resultdir, 'macrostate_its.png', lag_times, msm_timescales, 'ps')"
   ]
  },
  {
   "cell_type": "code",
   "execution_count": null,
   "metadata": {},
   "outputs": [],
   "source": [
    "#evaluate the dynamics based on the microstate MSM\n",
    "lagtime = 10 #microstate Markovian lag time\n",
    "microstate_msm = MarkovStateModel(lag_time=lagtime, reversible_type='transpose', n_timescales=3, ergodic_cutoff='off') #lag time should be chosen such that the model becomes Markovian\n",
    "#n_timescale specify the number of dynamic mode (the 1st one is the 2nd eigenvector of TPM) that outputs\n",
    "microstate_msm.fit(microstate_sequences.labels_)\n",
    "source_state = 1 #specify the source state you want to investigate\n",
    "sink_state = 2 #specify the sink macrostate you want to investigate\n",
    "calculate_macro_TPT_and_MFPT_basedon_micro_MSM(microstate_msm.transmat_, pcca.microstate_mapping_, source_state, sink_state, lagtime, '0.1 ps', 'off')"
   ]
  },
  {
   "cell_type": "code",
   "execution_count": null,
   "metadata": {
    "collapsed": true
   },
   "outputs": [],
   "source": [
    "#Build the macrostate MSM and extract kinetics & thermodynamics based on the MSM\n",
    "lag_time = 12 #the lag time where implied timescale reaches plateau \n",
    "msm = MarkovStateModel(lag_time, reversible_type='transpose', n_timescales=2) #lag time should be chosen such that the model becomes Markovian\n",
    "#n_timescale specify the number of dynamic mode (the 1st one is the 2nd eigenvector of TPM) that outputs\n",
    "msm.fit(macro_trajs)\n",
    "\n",
    "#get the first dynamic eigenmode\n",
    "print(\"the first dynamic eigenmode:\", msm.right_eigenvectors_[:, 1])\n",
    "print(\"the slowest transition happens between the macrostates with +ev & -ev eigenvector components\")\n",
    "\n",
    "#get the stationary population\n",
    "print(\"Stationary population for the macrostates:\", msm.populations_)\n",
    "\n",
    "#get the transition pathways and mean first passage time from one state to another, using transition path theory (tpt)\n",
    "source_state = 1\n",
    "sink_state = 2\n",
    "evaluate_dominant_paths(msm.transmat_, lag_time, source_state, sink_state, 'ps') #play with source state and sink state"
   ]
  },
  {
   "cell_type": "code",
   "execution_count": null,
   "metadata": {
    "collapsed": true
   },
   "outputs": [],
   "source": [
    "print(\"end of the example of alanine dipeptide\")"
   ]
  },
  {
   "cell_type": "code",
   "execution_count": null,
   "metadata": {},
   "outputs": [],
   "source": []
  }
 ],
 "metadata": {
  "anaconda-cloud": {},
  "kernelspec": {
   "display_name": "Python 3",
   "language": "python",
   "name": "python3"
  },
  "language_info": {
   "codemirror_mode": {
    "name": "ipython",
    "version": 3
   },
   "file_extension": ".py",
   "mimetype": "text/x-python",
   "name": "python",
   "nbconvert_exporter": "python",
   "pygments_lexer": "ipython3",
   "version": "3.6.4"
  }
 },
 "nbformat": 4,
 "nbformat_minor": 2
}
